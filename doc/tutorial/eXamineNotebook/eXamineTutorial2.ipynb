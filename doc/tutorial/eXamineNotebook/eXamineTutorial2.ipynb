{
 "cells": [
  {
   "cell_type": "markdown",
   "metadata": {},
   "source": [
    "# eXamine Automation Tutorial\n",
    "\n",
    "This case study demonstrates how to use the REST API of eXamine to study a small, annotated graph in Cytoscape. The graph we study is `Zachary's karate club`."
   ]
  },
  {
   "cell_type": "code",
   "execution_count": 30,
   "metadata": {
    "collapsed": true,
    "scrolled": true
   },
   "outputs": [],
   "source": [
    "# HTTP Client for Python\n",
    "import requests\n",
    "# Standard JSON library, currently unused\n",
    "import json\n",
    "\n",
    "# Cytoscape port number\n",
    "PORT_NUMBER = 1234\n",
    "\n",
    "BASE_URL = \"file:///Users/melkebir/Projects/eXamine/doc/tutorial/\"\n",
    "\n",
    "# The Base path for the CyRest API\n",
    "BASE = 'http://localhost:' + str(PORT_NUMBER) + '/v1/'\n",
    "\n",
    "#Helper command to call a command via HTTP GET\n",
    "def executeRestCommand(namespace=\"\", command=\"\", args={}):\n",
    "    postString = BASE + \"commands/\" + namespace + \"/\" + command\n",
    "    firstarg = True;\n",
    "    for arg in args:\n",
    "        postString += (\"?\" if firstarg else \"&\")\n",
    "        postString += arg+\"=\"+args[arg]\n",
    "        if (firstarg):\n",
    "            firstarg = False;\n",
    "\n",
    "    res = requests.get(postString)\n",
    "    return res"
   ]
  },
  {
   "cell_type": "markdown",
   "metadata": {},
   "source": [
    "## Importing network and node-specific annotation\n",
    "\n",
    "We start by importing the graph directly from the eXamine repository on github."
   ]
  },
  {
   "cell_type": "code",
   "execution_count": 31,
   "metadata": {
    "collapsed": false,
    "scrolled": true
   },
   "outputs": [],
   "source": [
    "# First we import our demo network\n",
    "res = executeRestCommand(\"network\", \"import url\", {\"indexColumnSourceInteraction\":\"1\",\n",
    "                                                   \"indexColumnTargetInteraction\":\"2\",\n",
    "                                                   \"url\": BASE_URL + \"edges_karate.gml\"})"
   ]
  },
  {
   "cell_type": "markdown",
   "metadata": {},
   "source": [
    "Next, we identify the SUID of the newly created network. The SUID is needed for subsequent eXamine commands."
   ]
  },
  {
   "cell_type": "code",
   "execution_count": 32,
   "metadata": {
    "collapsed": false
   },
   "outputs": [],
   "source": [
    "networkSUID = res.text.split(\"suid=\",1)[1].split(\",\")[0];"
   ]
  },
  {
   "cell_type": "markdown",
   "metadata": {},
   "source": [
    "We then import node-specific annotation directly from the eXamine repository on github. The imported file contains set membership information for each node. Note that it is important to ensure that set-membership information is imported as `List of String`, as indicated by `sl`."
   ]
  },
  {
   "cell_type": "code",
   "execution_count": 33,
   "metadata": {
    "collapsed": false
   },
   "outputs": [
    {
     "data": {
      "text/plain": [
       "<Response [200]>"
      ]
     },
     "execution_count": 33,
     "metadata": {},
     "output_type": "execute_result"
    }
   ],
   "source": [
    "# Next we import node annotations\n",
    "executeRestCommand(\"table\", \"import url\",\n",
    "                   {\"firstRowAsColumnNames\":\"true\",\n",
    "                    \"keyColumnIndex\" : \"1\",\n",
    "                    \"startLoadRow\" : \"1\",\n",
    "                    \"dataTypeList\":\"s,sl\",\n",
    "                    \"url\": BASE_URL + \"nodes_karate.txt\"})"
   ]
  },
  {
   "cell_type": "code",
   "execution_count": 34,
   "metadata": {
    "collapsed": false
   },
   "outputs": [
    {
     "data": {
      "text/plain": [
       "<Response [200]>"
      ]
     },
     "execution_count": 34,
     "metadata": {},
     "output_type": "execute_result"
    }
   ],
   "source": [
    "executeRestCommand(\"network\", \"select\", {\"nodeList\" : \"all\"})"
   ]
  },
  {
   "cell_type": "code",
   "execution_count": 35,
   "metadata": {
    "collapsed": false
   },
   "outputs": [
    {
     "data": {
      "text/plain": [
       "<Response [200]>"
      ]
     },
     "execution_count": 35,
     "metadata": {},
     "output_type": "execute_result"
    }
   ],
   "source": [
    "executeRestCommand(\"examine\", \"generate groups\",\n",
    "                   {\"selectedGroupColumns\" : \"Community\"})"
   ]
  },
  {
   "cell_type": "markdown",
   "metadata": {},
   "source": [
    "## Set-based visualization using eXamine\n",
    "\n",
    "We now describe how to visualize the current selection. First, we set the visualization options."
   ]
  },
  {
   "cell_type": "code",
   "execution_count": 39,
   "metadata": {
    "collapsed": false
   },
   "outputs": [
    {
     "data": {
      "text/plain": [
       "<Response [404]>"
      ]
     },
     "execution_count": 39,
     "metadata": {},
     "output_type": "execute_result"
    }
   ],
   "source": [
    "# Adjust the visualization settings\n",
    "executeRestCommand(\"examine\", \"update settings\",\n",
    "                   {\"labelColumn\" : \"label\",\n",
    "                    \"URL\" : \"label\",\n",
    "                    \"showScore\" : \"false\",\n",
    "                    \"selectedGroupColumns\" : \"Community\"})"
   ]
  },
  {
   "cell_type": "markdown",
   "metadata": {},
   "source": [
    "We then select six groups."
   ]
  },
  {
   "cell_type": "code",
   "execution_count": 37,
   "metadata": {
    "collapsed": false
   },
   "outputs": [
    {
     "data": {
      "text/plain": [
       "<Response [200]>"
      ]
     },
     "execution_count": 37,
     "metadata": {},
     "output_type": "execute_result"
    }
   ],
   "source": [
    "# Select groups for demarcation in the visualization\n",
    "executeRestCommand(\"examine\", \"select groups\",\n",
    "                   {\"selectedGroups\":\"A,B,C,D,E,F\"})"
   ]
  },
  {
   "cell_type": "markdown",
   "metadata": {},
   "source": [
    "There are two options: either we launch the interactive eXamine visualization, or we directly generate an SVG."
   ]
  },
  {
   "cell_type": "code",
   "execution_count": 12,
   "metadata": {
    "collapsed": false
   },
   "outputs": [
    {
     "data": {
      "text/plain": [
       "<Response [200]>"
      ]
     },
     "execution_count": 12,
     "metadata": {},
     "output_type": "execute_result"
    }
   ],
   "source": [
    "# Launch the interactive eXamine visualization\n",
    "executeRestCommand(\"examine\", \"interact\", {})"
   ]
  },
  {
   "cell_type": "markdown",
   "metadata": {},
   "source": [
    "The command below launches the eXamine window. If this window is blank, simply resize the window to force a redraw of the scene."
   ]
  },
  {
   "cell_type": "code",
   "execution_count": 40,
   "metadata": {
    "collapsed": false
   },
   "outputs": [
    {
     "data": {
      "text/plain": [
       "<Response [200]>"
      ]
     },
     "execution_count": 40,
     "metadata": {},
     "output_type": "execute_result"
    }
   ],
   "source": [
    "# Export a graphic instead of interacting with it\n",
    "# use absolute path; writes in Cytoscape directory if not changed \n",
    "executeRestCommand(\"examine\", \"export\", {\"path\": \"test.svg\"})"
   ]
  }
 ],
 "metadata": {
  "kernelspec": {
   "display_name": "Python 2",
   "language": "python",
   "name": "python2"
  },
  "language_info": {
   "codemirror_mode": {
    "name": "ipython",
    "version": 2
   },
   "file_extension": ".py",
   "mimetype": "text/x-python",
   "name": "python",
   "nbconvert_exporter": "python",
   "pygments_lexer": "ipython2",
   "version": "2.7.12"
  }
 },
 "nbformat": 4,
 "nbformat_minor": 1
}
