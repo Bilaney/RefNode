{
 "cells": [
  {
   "cell_type": "markdown",
   "metadata": {},
   "source": [
    "# eXamine Automation Tutorial\n",
    "\n",
    "This case study demonstrates how to use the REST API of eXamine to study an annotated module in Cytoscape. The module that we study has 17 nodes and 18 edges and occurs within the KEGG mouse network consisting of 3863 nodes and 29293 edges. The module is annotated with sets from four different categories: (1) KEGG pathways and the GO categories (2) molecular process, (3) biological function and (4) cellular component.\n",
    "\n",
    "There are three steps for visualizing subnetwork modules with eXamine. In the following, we will describe and perform the steps using the Automation functionality of Cytoscape. We refer to [tutorial.pdf](https://raw.githubusercontent.com/ls-cwi/eXamine/master/doc/tutorial/tutorial.pdf) for instructions using the Cytoscape GUI."
   ]
  },
  {
   "cell_type": "code",
   "execution_count": null,
   "metadata": {
    "scrolled": true
   },
   "outputs": [],
   "source": [
    "# HTTP Client for Python\n",
    "import requests\n",
    "\n",
    "# Cytoscape port number\n",
    "PORT_NUMBER = 1234\n",
    "\n",
    "BASE_URL = \"https://raw.githubusercontent.com/ls-cwi/eXamine/master/data/\"\n",
    "\n",
    "# The Base path for the CyRest API\n",
    "BASE = 'http://localhost:' + str(PORT_NUMBER) + '/v1/'\n",
    "\n",
    "#Helper command to call a command via HTTP POST\n",
    "def executeRestCommand(namespace=\"\", command=\"\", args={}):\n",
    "    postString = BASE + \"commands/\" + namespace + \"/\" + command\n",
    "    res = requests.post(postString,json=args)\n",
    "    return res"
   ]
  },
  {
   "cell_type": "markdown",
   "metadata": {},
   "source": [
    "## Importing network and node-specific annotation\n",
    "\n",
    "We start by importing the KEGG network directly from the eXamine repository on github."
   ]
  },
  {
   "cell_type": "code",
   "execution_count": null,
   "metadata": {
    "scrolled": true
   },
   "outputs": [],
   "source": [
    "# First we import our demo network\n",
    "executeRestCommand(\"network\", \"import url\", {\"indexColumnSourceInteraction\":\"1\",\n",
    "                                                   \"indexColumnTargetInteraction\":\"2\",\n",
    "                                                   \"url\": BASE_URL + \"edges.txt\"})"
   ]
  },
  {
   "cell_type": "markdown",
   "metadata": {},
   "source": [
    "We then import node-specific annotation directly from the eXamine repository on github. The imported file contains set membership information for each node. Note that it is important to ensure that set-membership information is imported as `List of String`, as indicated by `sl`."
   ]
  },
  {
   "cell_type": "code",
   "execution_count": null,
   "metadata": {},
   "outputs": [],
   "source": [
    "# Next we import node annotations\n",
    "executeRestCommand(\"table\", \"import url\",\n",
    "                   {\"firstRowAsColumnNames\":\"true\",\n",
    "                    \"keyColumnIndex\" : \"1\",\n",
    "                    \"startLoadRow\" : \"1\",\n",
    "                    \"dataTypeList\":\"s,s,f,f,f,s,s,s,sl,sl,sl,sl\",\n",
    "                    \"url\": BASE_URL + \"nodes_induced.txt\"})"
   ]
  },
  {
   "cell_type": "markdown",
   "metadata": {},
   "source": [
    "## Import set-specific annotation\n",
    "\n",
    "We now describe how to import the set-specific annotations. In order to do so, eXamine needs to generate group nodes for each of the sets present in the module. To do so, we need to select nodes present in the module; these nodes have the value `small` in column `Module`, which we do as follows."
   ]
  },
  {
   "cell_type": "code",
   "execution_count": null,
   "metadata": {},
   "outputs": [],
   "source": [
    "executeRestCommand(\"network\", \"select\", {\"nodeList\":\"Module:small\"})"
   ]
  },
  {
   "cell_type": "markdown",
   "metadata": {},
   "source": [
    "Now that we have selected the nodes of the module, we can proceed with generating group nodes for each set (`Process`, `Function`, `Component` and `Pathway`)."
   ]
  },
  {
   "cell_type": "code",
   "execution_count": null,
   "metadata": {},
   "outputs": [],
   "source": [
    "executeRestCommand(\"examine\", \"generate groups\",\n",
    "                   {\"selectedGroupColumns\" : \"Process,Function,Component,Pathway\"})"
   ]
  },
  {
   "cell_type": "markdown",
   "metadata": {},
   "source": [
    "We import set-specific annotation, again directly from github."
   ]
  },
  {
   "cell_type": "code",
   "execution_count": null,
   "metadata": {},
   "outputs": [],
   "source": [
    "#Ok, time to enrich our newly greated group nodes with some interesting annotations\n",
    "executeRestCommand(\"table\", \"import url\",\n",
    "                   {\"firstRowAsColumnNames\":\"true\",\n",
    "                    \"keyColumnIndex\" : \"1\",\n",
    "                    \"startLoadRow\" : \"1\",\n",
    "                    \"url\" : BASE_URL + \"sets_induced.txt\"})"
   ]
  },
  {
   "cell_type": "markdown",
   "metadata": {},
   "source": [
    "## Set-based visualization using eXamine\n",
    "\n",
    "We now describe how to visualize the current selection. First, we set the visualization options."
   ]
  },
  {
   "cell_type": "code",
   "execution_count": null,
   "metadata": {},
   "outputs": [],
   "source": [
    "# Adjust the visualization settings\n",
    "executeRestCommand(\"examine\", \"update settings\",\n",
    "                   {\"labelColumn\" : \"Symbol\",\n",
    "                    \"urlColumn\" : \"URL\",\n",
    "                    \"scoreColumn\" : \"Score\",\n",
    "                    \"showScore\" : \"true\",\n",
    "                    \"selectedGroupColumns\" : \"Function,Pathway\"})"
   ]
  },
  {
   "cell_type": "markdown",
   "metadata": {},
   "source": [
    "We then select five groups."
   ]
  },
  {
   "cell_type": "code",
   "execution_count": null,
   "metadata": {},
   "outputs": [],
   "source": [
    "# Select groups for demarcation in the visualization\n",
    "executeRestCommand(\"examine\", \"select groups\",\n",
    "                   {\"selectedGroups\":\"GO:0008013,GO:0008083,mmu04070,mmu05200,mmu04520\"})"
   ]
  },
  {
   "cell_type": "markdown",
   "metadata": {},
   "source": [
    "There are two options: either we launch the interactive eXamine visualization, or we directly generate an SVG."
   ]
  },
  {
   "cell_type": "code",
   "execution_count": null,
   "metadata": {},
   "outputs": [],
   "source": [
    "# Launch the interactive eXamine visualization\n",
    "executeRestCommand(\"examine\", \"interact\", {})"
   ]
  },
  {
   "cell_type": "markdown",
   "metadata": {},
   "source": [
    "The command below launches the eXamine window. If this window is blank, simply resize the window to force a redraw of the scene."
   ]
  },
  {
   "cell_type": "code",
   "execution_count": null,
   "metadata": {},
   "outputs": [],
   "source": [
    "# Export a graphic instead of interacting with it\n",
    "# use absolute path; writes in Cytoscape directory if not changed \n",
    "executeRestCommand(\"examine\", \"export\", {\"path\": \"your-path-here.svg\"})"
   ]
  }
 ],
 "metadata": {
  "kernelspec": {
   "display_name": "Python 3",
   "language": "python",
   "name": "python3"
  },
  "language_info": {
   "codemirror_mode": {
    "name": "ipython",
    "version": 3
   },
   "file_extension": ".py",
   "mimetype": "text/x-python",
   "name": "python",
   "nbconvert_exporter": "python",
   "pygments_lexer": "ipython3",
   "version": "3.6.4"
  }
 },
 "nbformat": 4,
 "nbformat_minor": 1
}
