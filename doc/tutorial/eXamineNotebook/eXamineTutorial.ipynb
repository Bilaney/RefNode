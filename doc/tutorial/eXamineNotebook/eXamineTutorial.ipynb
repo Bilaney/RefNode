{
 "cells": [
  {
   "cell_type": "markdown",
   "metadata": {},
   "source": [
    "#eXamine tutorial (with automation)\n",
    "\n",
    "Trying to recreate the eXamine tutorial with automation ... \n",
    "Let's see how this goes"
   ]
  },
  {
   "cell_type": "code",
   "execution_count": null,
   "metadata": {
    "collapsed": false
   },
   "outputs": [],
   "source": [
    "# HTTP Client for Python\n",
    "import requests\n",
    "\n",
    "# Standard JSON library, currently unused\n",
    "import json\n",
    "\n",
    "# Basic Setup\n",
    "PORT_NUMBER = 1234 #Yes, this is really the Cytoscape Basic Port\n",
    "\n",
    "#The Base path for the CyRest API\n",
    "BASE = 'http://localhost:' + str(PORT_NUMBER) + '/v1/'\n",
    "\n",
    "#Helper command to call a command via HTTP GET\n",
    "def executeRestCommand(namespace=\"\",command=\"\",args={}):\n",
    "    postString = BASE + \"commands/\"+namespace+\"/\"+command\n",
    "    firstarg = True;\n",
    "    for arg in args:\n",
    "        postString+=(\"?\" if firstarg else \"&\")\n",
    "        postString+=arg+\"=\"+args[arg]\n",
    "        if (firstarg):\n",
    "            firstarg = False;\n",
    "            \n",
    "    print(postString)\n",
    "    res = requests.get(postString)\n",
    "    return res\n",
    "\n",
    "print(\"test\")\n",
    "    \n"
   ]
  },
  {
   "cell_type": "code",
   "execution_count": null,
   "metadata": {
    "collapsed": false
   },
   "outputs": [],
   "source": [
    "#First we import our demo network\n",
    "res = executeRestCommand(\"network\",\"import url\",{\"indexColumnSourceInteraction\":\"1\",\"indexColumnTargetInteraction\":\"2\",\"url\":\"https://raw.githubusercontent.com/ls-cwi/eXamine/master/data/edges.txt\"})\n",
    "print(res.text)\n"
   ]
  },
  {
   "cell_type": "code",
   "execution_count": null,
   "metadata": {
    "collapsed": false
   },
   "outputs": [],
   "source": [
    "#TODO: This can surely be done more elegant\n",
    "networkSUID = res.text.split(\"suid=\",1)[1].split(\",\")[0];\n",
    "print(networkSUID)"
   ]
  },
  {
   "cell_type": "code",
   "execution_count": null,
   "metadata": {
    "collapsed": true
   },
   "outputs": [],
   "source": [
    "#Next we import node annotations\n",
    "res = executeRestCommand(\n",
    "    \"table\",\n",
    "    \"import url\",\n",
    "    {\"firstRowAsColumnNames\":\"true\",\n",
    "     \"keyColumnIndex\" : \"1\",\n",
    "     \"startLoadRow\" : \"1\",\n",
    "     \"dataTypeList\":\"s,s,f,f,f,s,s,s,sl,sl,sl,sl\",\n",
    "     \"url\":\"https://raw.githubusercontent.com/ls-cwi/eXamine/master/data/nodes_induced.txt\"})\n",
    "\n",
    "print(res.text)"
   ]
  },
  {
   "cell_type": "code",
   "execution_count": null,
   "metadata": {
    "collapsed": false
   },
   "outputs": [],
   "source": [
    "#We select all nodes with the value \"small\" in the column \"Module\"\n",
    "\n",
    "res = executeRestCommand(\n",
    "    \"network\",\n",
    "    \"select\",\n",
    "    {\"nodeList\":\"Module:small\"})"
   ]
  },
  {
   "cell_type": "code",
   "execution_count": null,
   "metadata": {
    "collapsed": true
   },
   "outputs": [],
   "source": [
    "#As a next step we generate the groups via eXamine\n",
    "res = executeRestCommand(\n",
    "    \"examine\",\n",
    "    \"generate groups\",\n",
    "    {\"selectedGroupColumns\":\"Process,Function,Component,Pathway\"})\n",
    "\n",
    "print(res.text)"
   ]
  },
  {
   "cell_type": "code",
   "execution_count": null,
   "metadata": {
    "collapsed": true
   },
   "outputs": [],
   "source": [
    "#Ok, time to enrich our newly greated group nodes with some interesting annotations\n",
    "res = executeRestCommand(\n",
    "    \"table\",\n",
    "    \"import url\",\n",
    "    {\"firstRowAsColumnNames\":\"true\",\n",
    "     \"keyColumnIndex\" : \"1\",\n",
    "     \"startLoadRow\" : \"1\",\n",
    "     \"url\":\"https://raw.githubusercontent.com/ls-cwi/eXamine/master/data/sets_induced.txt\"})\n",
    "\n",
    "print(res.text)"
   ]
  },
  {
   "cell_type": "code",
   "execution_count": null,
   "metadata": {
    "collapsed": false
   },
   "outputs": [],
   "source": [
    "# Adjust the visualization settings\n",
    "res = executeRestCommand(\n",
    "    \"examine\",\n",
    "    \"update settings\",\n",
    "    {\"labelColumn\": \"Symbol\",\n",
    "     \"urlColumn\": \"URL\",\n",
    "     \"scoreColumn\": \"Score\",\n",
    "     \"showScore\": \"true\"})\n",
    "\n",
    "print(res.text)"
   ]
  },
  {
   "cell_type": "code",
   "execution_count": null,
   "metadata": {
    "collapsed": false
   },
   "outputs": [],
   "source": [
    "# Launch the interactive eXamine visualization\n",
    "res = executeRestCommand(\n",
    "    \"examine\",\n",
    "    \"interact\",\n",
    "    {})\n",
    "\n",
    "print(res.text)"
   ]
  },
  {
   "cell_type": "code",
   "execution_count": null,
   "metadata": {
    "collapsed": false
   },
   "outputs": [],
   "source": [
    "#As a next step we generate the groups via eXamine\n",
    "res = executeRestCommand(\n",
    "    \"examine\",\n",
    "    \"select groups\",\n",
    "    {\"selectedGroups\":\"GO:0043274,GO:0031997\"})\n",
    "\n",
    "print(res.text)"
   ]
  },
  {
   "cell_type": "code",
   "execution_count": null,
   "metadata": {
    "collapsed": true
   },
   "outputs": [],
   "source": []
  }
 ],
 "metadata": {
  "kernelspec": {
   "display_name": "Python 3",
   "language": "python",
   "name": "python3"
  },
  "language_info": {
   "codemirror_mode": {
    "name": "ipython",
    "version": 3
   },
   "file_extension": ".py",
   "mimetype": "text/x-python",
   "name": "python",
   "nbconvert_exporter": "python",
   "pygments_lexer": "ipython3",
   "version": "3.6.3"
  }
 },
 "nbformat": 4,
 "nbformat_minor": 0
}
