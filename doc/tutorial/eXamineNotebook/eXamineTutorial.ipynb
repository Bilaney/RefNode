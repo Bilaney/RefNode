{
 "cells": [
  {
   "cell_type": "markdown",
   "metadata": {},
   "source": [
    "#eXamine tutorial (with automation)\n",
    "\n",
    "Trying to recreate the eXamine tutorial with automation ... \n",
    "Let's see how this goes"
   ]
  },
  {
   "cell_type": "code",
   "execution_count": 2,
   "metadata": {
    "collapsed": false
   },
   "outputs": [],
   "source": [
    "import py2cytoscape\n",
    "\n",
    "# HTTP Client for Python\n",
    "import requests\n",
    "import json\n",
    "\n",
    "# Standard JSON library\n",
    "import json\n",
    "\n",
    "# Basic Setup\n",
    "PORT_NUMBER = 1234 #Yes, this is really the Cytoscape Basic Port\n",
    "\n",
    "BASE = 'http://localhost:' + str(PORT_NUMBER) + '/v1/'\n",
    "\n",
    "\n",
    "def executeRestCommand(namespace=\"\",command=\"\",args={}):\n",
    "    postString = BASE + \"commands/\"+namespace+\"/\"+command\n",
    "    firstarg = True;\n",
    "    for arg in args:\n",
    "        postString+=(\"?\" if firstarg else \"&\")\n",
    "        postString+=arg+\"=\"+args[arg]\n",
    "        if (firstarg):\n",
    "            firstarg = False;\n",
    "            \n",
    "    print(postString)\n",
    "    res = requests.get(postString)\n",
    "    return res\n",
    "    \n"
   ]
  },
  {
   "cell_type": "code",
   "execution_count": null,
   "metadata": {
    "collapsed": false
   },
   "outputs": [
    {
     "name": "stdout",
     "output_type": "stream",
     "text": [
      "<p style=\"color:green;margin-left:10px;margin-top:0px;margin-bottom:5px;\">DGraphView: suid=489641, model=edges.txt</p>\n<p style=\"color:black;margin-left:10px;margin-top:0px;margin-bottom:5px;\">Finished</p>\n\n"
     ]
    }
   ],
   "source": [
    "#First we import our demo network\n",
    "res = executeRestCommand(\"network\",\"import url\",{\"indexColumnSourceInteraction\":\"1\",\"indexColumnTargetInteraction\":\"2\",\"url\":\"https://raw.githubusercontent.com/ls-cwi/eXamine/master/data/edges.txt\"})\n",
    "\n",
    "print(res.text)\n"
   ]
  },
  {
   "cell_type": "code",
   "execution_count": 67,
   "metadata": {
    "collapsed": false
   },
   "outputs": [
    {
     "name": "stdout",
     "output_type": "stream",
     "text": [
      "<p style=\"color:green;margin-left:10px;margin-top:0px;margin-bottom:5px;\">DGraphView: suid=489641, model=edges.txt</p>\n<p style=\"color:black;margin-left:10px;margin-top:0px;margin-bottom:5px;\">Finished</p>\n\n"
     ]
    }
   ],
   "source": [
    "#TODO: Maybe retrieve the network SUID somehow for later reference, it is returned as DGraphView: suid = xyz\n",
    "print(res.content.decode())\n",
    "\n",
    "#res = cytoscape('network','import url',{\"url\":\"https://raw.githubusercontent.com/ls-cwi/eXamine/master/data/edges.txt\",\"sourceColumnIndex\": \"0\"},verbose=True)\n"
   ]
  },
  {
   "cell_type": "code",
   "execution_count": 71,
   "metadata": {},
   "outputs": [
    {
     "name": "stdout",
     "output_type": "stream",
     "text": [
      "http://localhost:1234/v1/commands/table/import url?startLoadRow=1&firstRowAsColumnNames=true&url=https://raw.githubusercontent.com/ls-cwi/eXamine/master/data/nodes_induced.txt&keyColumnIndex=1&dataTypeList=s,s,f,f,f,s,s,s,sl,sl,sl,sl\n"
     ]
    },
    {
     "name": "stdout",
     "output_type": "stream",
     "text": [
      "<p style=\"color:green;margin-left:10px;margin-top:0px;margin-bottom:5px;\">Mapped to tables:\n   edges.txt root shared  node\n</p>\n<p style=\"color:black;margin-left:10px;margin-top:0px;margin-bottom:5px;\">Finished</p>\n\n"
     ]
    }
   ],
   "source": [
    "#Next we import node annotations\n",
    "res = executeRestCommand(\n",
    "    \"table\",\n",
    "    \"import url\",\n",
    "    {\"firstRowAsColumnNames\":\"true\",\n",
    "     \"keyColumnIndex\" : \"1\",\n",
    "     \"startLoadRow\" : \"1\",\n",
    "     \"dataTypeList\":\"s,s,f,f,f,s,s,s,sl,sl,sl,sl\",\n",
    "     \"url\":\"https://raw.githubusercontent.com/ls-cwi/eXamine/master/data/nodes_induced.txt\"})\n",
    "\n",
    "print(res.text)"
   ]
  },
  {
   "cell_type": "code",
   "execution_count": 3,
   "metadata": {},
   "outputs": [
    {
     "name": "stdout",
     "output_type": "stream",
     "text": [
      "http://localhost:1234/v1/commands/network/select?nodeList=Module:small\n"
     ]
    }
   ],
   "source": [
    "#We select all nodes with the value \"small\" in the column \"Module\" TODO: Use previously fetched SUID\n",
    "\n",
    "res = executeRestCommand(\n",
    "    \"network\",\n",
    "    \"select\",\n",
    "    {\"nodeList\":\"Module:small\"})"
   ]
  },
  {
   "cell_type": "code",
   "execution_count": 5,
   "metadata": {},
   "outputs": [
    {
     "name": "stdout",
     "output_type": "stream",
     "text": [
      "http://localhost:1234/v1/commands/examine/generate groups?selectedGroupColumns=Process,Function,Component,Pathway\n"
     ]
    },
    {
     "name": "stdout",
     "output_type": "stream",
     "text": [
      "<p style=\"color:black;margin-left:10px;margin-top:0px;margin-bottom:5px;\">Finished</p>\n\n"
     ]
    }
   ],
   "source": [
    "#As a next step we generate the groups via eXamine\n",
    "res = executeRestCommand(\n",
    "    \"examine\",\n",
    "    \"generate groups\",\n",
    "    {\"selectedGroupColumns\":\"Process,Function,Component,Pathway\"})\n",
    "\n",
    "print(res.text)"
   ]
  },
  {
   "cell_type": "code",
   "execution_count": 6,
   "metadata": {},
   "outputs": [
    {
     "name": "stdout",
     "output_type": "stream",
     "text": [
      "http://localhost:1234/v1/commands/table/import url?startLoadRow=1&firstRowAsColumnNames=true&keyColumnIndex=1&url=https://raw.githubusercontent.com/ls-cwi/eXamine/master/data/sets_induced.txt\n"
     ]
    },
    {
     "name": "stdout",
     "output_type": "stream",
     "text": [
      "<p style=\"color:green;margin-left:10px;margin-top:0px;margin-bottom:5px;\">Mapped to tables:\n   edges.txt root shared  node\n</p>\n<p style=\"color:black;margin-left:10px;margin-top:0px;margin-bottom:5px;\">Finished</p>\n\n"
     ]
    }
   ],
   "source": [
    "#Ok, time to enrich our newly greated group nodes with some interesting annotations\n",
    "res = executeRestCommand(\n",
    "    \"table\",\n",
    "    \"import url\",\n",
    "    {\"firstRowAsColumnNames\":\"true\",\n",
    "     \"keyColumnIndex\" : \"1\",\n",
    "     \"startLoadRow\" : \"1\",\n",
    "     \"url\":\"https://raw.githubusercontent.com/ls-cwi/eXamine/master/data/sets_induced.txt\"})\n",
    "\n",
    "print(res.text)"
   ]
  },
  {
   "cell_type": "code",
   "execution_count": null,
   "metadata": {},
   "outputs": [],
   "source": [
    "#Last Step: Either generate the eXamine window in Cytoscape or export the image\n",
    "#TODO"
   ]
  }
 ],
 "metadata": {
  "kernelspec": {
   "display_name": "Python 2",
   "language": "python",
   "name": "python2"
  },
  "language_info": {
   "codemirror_mode": {
    "name": "ipython",
    "version": 2
   },
   "file_extension": ".py",
   "mimetype": "text/x-python",
   "name": "python",
   "nbconvert_exporter": "python",
   "pygments_lexer": "ipython2",
   "version": "2.7.6"
  }
 },
 "nbformat": 4,
 "nbformat_minor": 0
}
